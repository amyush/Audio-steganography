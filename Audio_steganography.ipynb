{
  "nbformat": 4,
  "nbformat_minor": 0,
  "metadata": {
    "colab": {
      "name": "Audio-steganography.ipynb",
      "provenance": [],
      "authorship_tag": "ABX9TyNxejf+4X9Hxx19v3yexBGn",
      "include_colab_link": true
    },
    "kernelspec": {
      "name": "python3",
      "display_name": "Python 3"
    },
    "language_info": {
      "name": "python"
    }
  },
  "cells": [
    {
      "cell_type": "markdown",
      "metadata": {
        "id": "view-in-github",
        "colab_type": "text"
      },
      "source": [
        "<a href=\"https://colab.research.google.com/github/amyush/Audio-steganography/blob/main/Audio_steganography.ipynb\" target=\"_parent\"><img src=\"https://colab.research.google.com/assets/colab-badge.svg\" alt=\"Open In Colab\"/></a>"
      ]
    },
    {
      "cell_type": "code",
      "execution_count": 1,
      "metadata": {
        "colab": {
          "base_uri": "https://localhost:8080/"
        },
        "id": "kEMP7_tlil1b",
        "outputId": "50910f29-da23-40dd-a3bb-8b02465bb29f"
      },
      "outputs": [
        {
          "output_type": "stream",
          "name": "stdout",
          "text": [
            "Cloning into 'Audio-steganography'...\n",
            "remote: Enumerating objects: 9, done.\u001b[K\n",
            "remote: Counting objects: 100% (9/9), done.\u001b[K\n",
            "remote: Compressing objects: 100% (8/8), done.\u001b[K\n",
            "remote: Total 9 (delta 0), reused 0 (delta 0), pack-reused 0\u001b[K\n",
            "Unpacking objects: 100% (9/9), done.\n"
          ]
        }
      ],
      "source": [
        "!git clone https://github.com/amyush/Audio-steganography.git"
      ]
    },
    {
      "cell_type": "code",
      "source": [
        "import numpy as np\n",
        "import pandas as pd\n",
        "import cv2\n",
        "from google.colab.patches import cv2\n",
        "import wave"
      ],
      "metadata": {
        "id": "XSBoxXO4svKR"
      },
      "execution_count": 7,
      "outputs": []
    },
    {
      "cell_type": "code",
      "source": [
        "def stringToBinary(a):\n",
        "  l=[]\n",
        "  res = ''.join(format(ord(i), '08b') for i in a)\n",
        "  return res\n",
        "\n",
        "def binaryToString(a):\n",
        "  return chr(binaryToInt(a))\n",
        "\n",
        "def integerToBinary(a):\n",
        "  return int(bin(a)[2:])\n",
        "\n",
        "def binaryToInt(binary): \n",
        "    int_val, i, n = 0, 0, 0\n",
        "    while(binary != 0): \n",
        "        a = binary % 10\n",
        "        int_val = int_val + a * pow(2, i) \n",
        "        binary = binary//10\n",
        "        i += 1\n",
        "    return int_val\n",
        "\n",
        "def calculatePSNR(originalImage, encodedImage):\n",
        "  error = np.sum((originalImage.astype('float') - encodedImage.astype('float')) ** 2)\n",
        "  error /= float(originalImage.shape[0] * originalImage.shape[1]);\n",
        "  if error == 0:\n",
        "      return 100\n",
        "  PIXEL_MAX = 255.0\n",
        "  return 20 * math.log10(PIXEL_MAX / math.sqrt(error))"
      ],
      "metadata": {
        "id": "v0bfIaRNyGLI"
      },
      "execution_count": 32,
      "outputs": []
    },
    {
      "cell_type": "code",
      "source": [
        "def encodeImage(filename):\n",
        "    key = 'awdawd'\n",
        "    message = 'awdawdawd'\n",
        "    audioPath = \"Audio-steganography/\"\n",
        "    audioFile = wave.open(audioPath + filename, 'rb')\n",
        "    # Extract audio frame as byte array\n",
        "    frame_bytes = bytearray(list(audioFile.readframes(audioFile.getnframes())))\n",
        "    \n",
        "    delimeter = \"#@#@#@\"\n",
        "    length = len(frame_bytes)\n",
        "\n",
        "    binKey = stringToBinary(key)\n",
        "    binMsg = stringToBinary(message + delimeter)\n",
        "    lenBinKey = len(binKey)\n",
        "    lenBinMsg = len(binMsg)\n",
        "\n",
        "    index = -1\n",
        "    count = 0\n",
        "    pixel = 0\n",
        "\n",
        "    modified_frame_bytes = frame_bytes\n",
        "\n",
        "    for j in range(0, length):\n",
        "        index = index + 1;\n",
        "        if((int)(binKey[index%lenBinKey]) == 1):\n",
        "            if(count < lenBinMsg):\n",
        "                pixel = integerToBinary(frame_bytes[j])   \n",
        "                newPixel = ((int)(pixel/10)*10) + (int)(binMsg[count])\n",
        "                modified_frame_bytes[j] = binaryToInt(newPixel);\n",
        "                count = count + 1;\n",
        "\n",
        "    modified_frame_bytes = bytes(modified_frame_bytes)\n",
        "    newaudio = wave.open(\"encodedAudio.wav\", \"wb\")\n",
        "    newaudio.setparams(audioFile.getparams())\n",
        "    newaudio.writeframes(modified_frame_bytes)"
      ],
      "metadata": {
        "id": "Hjq1PbFCtAXJ"
      },
      "execution_count": 44,
      "outputs": []
    },
    {
      "cell_type": "code",
      "source": [
        "encodeImage('cover_audio.wav')"
      ],
      "metadata": {
        "id": "9bGzCwYovOqh"
      },
      "execution_count": null,
      "outputs": []
    }
  ]
}