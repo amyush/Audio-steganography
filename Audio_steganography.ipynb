{
  "nbformat": 4,
  "nbformat_minor": 0,
  "metadata": {
    "colab": {
      "name": "Audio-steganography.ipynb",
      "provenance": [],
      "authorship_tag": "ABX9TyOiq+NWhwkL39L9hMlxKA8C",
      "include_colab_link": true
    },
    "kernelspec": {
      "name": "python3",
      "display_name": "Python 3"
    },
    "language_info": {
      "name": "python"
    }
  },
  "cells": [
    {
      "cell_type": "markdown",
      "metadata": {
        "id": "view-in-github",
        "colab_type": "text"
      },
      "source": [
        "<a href=\"https://colab.research.google.com/github/amyush/Audio-steganography/blob/main/Audio_steganography.ipynb\" target=\"_parent\"><img src=\"https://colab.research.google.com/assets/colab-badge.svg\" alt=\"Open In Colab\"/></a>"
      ]
    },
    {
      "cell_type": "code",
      "execution_count": 2,
      "metadata": {
        "colab": {
          "base_uri": "https://localhost:8080/"
        },
        "id": "kEMP7_tlil1b",
        "outputId": "bd75bd8c-df04-4bde-e786-35d0fe73cf7e"
      },
      "outputs": [
        {
          "output_type": "stream",
          "name": "stdout",
          "text": [
            "Cloning into 'Audio-steganography'...\n",
            "remote: Enumerating objects: 12, done.\u001b[K\n",
            "remote: Counting objects: 100% (12/12), done.\u001b[K\n",
            "remote: Compressing objects: 100% (11/11), done.\u001b[K\n",
            "remote: Total 12 (delta 1), reused 0 (delta 0), pack-reused 0\u001b[K\n",
            "Unpacking objects: 100% (12/12), done.\n"
          ]
        }
      ],
      "source": [
        "# Cloning the git repository to read the files\n",
        "!git clone https://github.com/amyush/Audio-steganography.git"
      ]
    },
    {
      "cell_type": "code",
      "source": [
        "import numpy as np\n",
        "import pandas as pd\n",
        "import cv2\n",
        "from google.colab.patches import cv2\n",
        "import wave"
      ],
      "metadata": {
        "id": "XSBoxXO4svKR"
      },
      "execution_count": 3,
      "outputs": []
    },
    {
      "cell_type": "code",
      "source": [
        "def stringToBinary(a):\n",
        "  l=[]\n",
        "  res = ''.join(format(ord(i), '08b') for i in a)\n",
        "  return res\n",
        "\n",
        "def binaryToString(a):\n",
        "  return chr(binaryToInt(a))\n",
        "\n",
        "def integerToBinary(a):\n",
        "  return int(bin(a)[2:])\n",
        "\n",
        "def binaryToInt(binary): \n",
        "    int_val, i, n = 0, 0, 0\n",
        "    while(binary != 0): \n",
        "        a = binary % 10\n",
        "        int_val = int_val + a * pow(2, i) \n",
        "        binary = binary//10\n",
        "        i += 1\n",
        "    return int_val\n",
        "\n",
        "def calculatePSNR(originalImage, encodedImage):\n",
        "  error = np.sum((originalImage.astype('float') - encodedImage.astype('float')) ** 2)\n",
        "  error /= float(originalImage.shape[0] * originalImage.shape[1]);\n",
        "  if error == 0:\n",
        "      return 100\n",
        "  PIXEL_MAX = 255.0\n",
        "  return 20 * math.log10(PIXEL_MAX / math.sqrt(error))"
      ],
      "metadata": {
        "id": "v0bfIaRNyGLI"
      },
      "execution_count": 4,
      "outputs": []
    },
    {
      "cell_type": "code",
      "source": [
        "def encodeImage(filename, key, message):\n",
        "    audioPath = \"Audio-steganography/\"\n",
        "    audioFile = wave.open(audioPath + filename, 'rb')\n",
        "    # Extract audio frame as byte array\n",
        "    frame_bytes = bytearray(list(audioFile.readframes(audioFile.getnframes())))\n",
        "    \n",
        "    delimeter = \"#@#@#@\"\n",
        "    length = len(frame_bytes)\n",
        "\n",
        "    binKey = stringToBinary(key)\n",
        "    binMsg = stringToBinary(message + delimeter)\n",
        "    lenBinKey = len(binKey)\n",
        "    lenBinMsg = len(binMsg)\n",
        "\n",
        "    index = -1\n",
        "    count = 0\n",
        "    pixel = 0\n",
        "\n",
        "    modified_frame_bytes = frame_bytes\n",
        "\n",
        "    for j in range(0, length):\n",
        "        index = index + 1;\n",
        "        if((int)(binKey[index%lenBinKey]) == 1):\n",
        "            if(count < lenBinMsg):\n",
        "                pixel = integerToBinary(frame_bytes[j])   \n",
        "                newPixel = ((int)(pixel/10)*10) + (int)(binMsg[count])\n",
        "                modified_frame_bytes[j] = binaryToInt(newPixel);\n",
        "                count = count + 1;\n",
        "\n",
        "    modified_frame_bytes = bytes(modified_frame_bytes)\n",
        "    newaudio = wave.open(audioPath + \"encodedAudio.wav\", \"wb\")\n",
        "    newaudio.setparams(audioFile.getparams())\n",
        "    newaudio.writeframes(modified_frame_bytes)"
      ],
      "metadata": {
        "id": "Hjq1PbFCtAXJ"
      },
      "execution_count": 14,
      "outputs": []
    },
    {
      "cell_type": "code",
      "source": [
        "def extractData(key):\n",
        "    imgPath =\"Audio-steganography/\"\n",
        "    audioFile = wave.open(imgPath + 'encodedAudio.wav', 'rb')\n",
        "    frame_bytes = bytearray(list(audioFile.readframes(audioFile.getnframes())))\n",
        "    length = len(frame_bytes)\n",
        "    \n",
        "    binKey = stringToBinary(key)\n",
        "    lenBinKey = len(binKey)\n",
        "    delimeter = \"#@#@#@\"\n",
        "    index = -1\n",
        "    lenPixel = 0\n",
        "    exMsg = \"\"\n",
        "    newPixel = 0\n",
        "    for j in range(0, length):\n",
        "        index += 1\n",
        "        if((int)(binKey[index%lenBinKey]) == 1):\n",
        "            pixel = integerToBinary(frame_bytes[j])\n",
        "            newPixel = newPixel * 10 + pixel%10\n",
        "            lenPixel += 1\n",
        "            if(lenPixel == 8):\n",
        "                exMsg += binaryToString(newPixel)\n",
        "                lenPixel = 0\n",
        "                newPixel = 0\n",
        "                if(\"#@#@#@\" in exMsg):\n",
        "                    return exMsg[:-6]\n",
        "              "
      ],
      "metadata": {
        "id": "dGG47dNfwb5_"
      },
      "execution_count": 18,
      "outputs": []
    },
    {
      "cell_type": "code",
      "source": [
        "key = 'apple'\n",
        "message = 'awdoajiwd ijawodjajwiojd'\n",
        "encodeImage('cover_audio.wav', key, message)"
      ],
      "metadata": {
        "id": "9bGzCwYovOqh"
      },
      "execution_count": 16,
      "outputs": []
    },
    {
      "cell_type": "code",
      "source": [
        "extractedMessage = extractData(key)\n",
        "\n",
        "print('encodedMessage = {}'.format(message))\n",
        "\n",
        "print('extractedMessage = {}'.format(extractedMessage))"
      ],
      "metadata": {
        "colab": {
          "base_uri": "https://localhost:8080/"
        },
        "id": "-G50wHd4xhaG",
        "outputId": "3171f8ad-4358-429f-e6a3-1823f0a8b587"
      },
      "execution_count": 19,
      "outputs": [
        {
          "output_type": "stream",
          "name": "stdout",
          "text": [
            "encodedMessage = awdoajiwd ijawodjajwiojd\n",
            "extractedMessage = awdoajiwd ijawodjajwiojd\n"
          ]
        }
      ]
    }
  ]
}