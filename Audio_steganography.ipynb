{
  "nbformat": 4,
  "nbformat_minor": 0,
  "metadata": {
    "colab": {
      "name": "Audio-steganography.ipynb",
      "provenance": [],
      "authorship_tag": "ABX9TyMhtpj0+Cpks0dv42ptP2zq",
      "include_colab_link": true
    },
    "kernelspec": {
      "name": "python3",
      "display_name": "Python 3"
    },
    "language_info": {
      "name": "python"
    }
  },
  "cells": [
    {
      "cell_type": "markdown",
      "metadata": {
        "id": "view-in-github",
        "colab_type": "text"
      },
      "source": [
        "<a href=\"https://colab.research.google.com/github/amyush/Audio-steganography/blob/main/Audio_steganography.ipynb\" target=\"_parent\"><img src=\"https://colab.research.google.com/assets/colab-badge.svg\" alt=\"Open In Colab\"/></a>"
      ]
    },
    {
      "cell_type": "markdown",
      "source": [
        "# **Setting up the environment**"
      ],
      "metadata": {
        "id": "JpzF-crDPVbq"
      }
    },
    {
      "cell_type": "code",
      "execution_count": 1,
      "metadata": {
        "colab": {
          "base_uri": "https://localhost:8080/"
        },
        "id": "kEMP7_tlil1b",
        "outputId": "c44de346-b924-4b0d-8fdd-b074c1142b74"
      },
      "outputs": [
        {
          "output_type": "stream",
          "name": "stdout",
          "text": [
            "Cloning into 'Audio-steganography'...\n",
            "remote: Enumerating objects: 33, done.\u001b[K\n",
            "remote: Counting objects: 100% (33/33), done.\u001b[K\n",
            "remote: Compressing objects: 100% (32/32), done.\u001b[K\n",
            "remote: Total 33 (delta 7), reused 0 (delta 0), pack-reused 0\u001b[K\n",
            "Unpacking objects: 100% (33/33), done.\n"
          ]
        }
      ],
      "source": [
        "# Cloning the git repository to read the files\n",
        "!git clone https://github.com/amyush/Audio-steganography.git"
      ]
    },
    {
      "cell_type": "code",
      "source": [
        "import numpy as np\n",
        "import pandas as pd\n",
        "import cv2\n",
        "from google.colab.patches import cv2\n",
        "import wave"
      ],
      "metadata": {
        "id": "XSBoxXO4svKR"
      },
      "execution_count": 2,
      "outputs": []
    },
    {
      "cell_type": "markdown",
      "source": [
        "# **Custom Functions**"
      ],
      "metadata": {
        "id": "7RtLV3On5mnJ"
      }
    },
    {
      "cell_type": "code",
      "source": [
        "# Function to convert a string to its binary representation\n",
        "def stringToBinary(a):\n",
        "  l=[]\n",
        "  res = ''.join(format(ord(i), '08b') for i in a)\n",
        "  return res\n",
        "\n",
        "# Function to convert a binary number to its respective string\n",
        "def binaryToString(a):\n",
        "  return chr(binaryToInt(a))\n",
        "\n",
        "# Function to convert a integer to its binary representation\n",
        "def integerToBinary(a):\n",
        "  return int(bin(a)[2:])\n",
        "\n",
        "# Function to convert a binary to its integer value\n",
        "def binaryToInt(binary): \n",
        "    int_val, i, n = 0, 0, 0\n",
        "    while(binary != 0): \n",
        "        a = binary % 10\n",
        "        int_val = int_val + a * pow(2, i) \n",
        "        binary = binary//10\n",
        "        i += 1\n",
        "    return int_val"
      ],
      "metadata": {
        "id": "v0bfIaRNyGLI"
      },
      "execution_count": 3,
      "outputs": []
    },
    {
      "cell_type": "markdown",
      "source": [
        "# **Steganography**"
      ],
      "metadata": {
        "id": "kbNjxJime5WM"
      }
    },
    {
      "cell_type": "markdown",
      "source": [
        "## **Hiding the data**"
      ],
      "metadata": {
        "id": "d8TzaV8-6bgh"
      }
    },
    {
      "cell_type": "code",
      "source": [
        "# Function to encode the message within an audio file\n",
        "def encodeMessage(filename, key, message):\n",
        "    # Base path of the code\n",
        "    audioPath = \"Audio-steganography/\"\n",
        "\n",
        "    # Reading the audio file as read-only\n",
        "    audioFile = wave.open(audioPath + filename, 'rb')\n",
        "    \n",
        "    # Extract audio frame as byte array\n",
        "    audioBytes = bytearray(list(audioFile.readframes(audioFile.getnframes())))\n",
        "    \n",
        "    # Declaring a delimeter\n",
        "    delimeter = \"#@#@#@\"\n",
        "    length = len(audioBytes)\n",
        "\n",
        "    # Converting key and message to its binary representation\n",
        "    # Here, custom function is used for conversion.\n",
        "    binKey = stringToBinary(key)\n",
        "    binMsg = stringToBinary(message + delimeter)\n",
        "    lenBinKey = len(binKey)\n",
        "    lenBinMsg = len(binMsg)\n",
        "\n",
        "    # Pointer to keep track of current key bit\n",
        "    index = -1\n",
        "    # Pointer to keep track of current message bit\n",
        "    count = 0\n",
        "\n",
        "    # New audio file where the message is encoded\n",
        "    encodedAudioBytes = audioBytes\n",
        "\n",
        "    # Hiding the message in the audio file\n",
        "    for j in range(0, length):\n",
        "        index = index + 1;\n",
        "\n",
        "        # Looping over key bits using modulus function to accomodate any length of message\n",
        "        if((int)(binKey[index%lenBinKey]) == 1):\n",
        "            # If the count is less, that means not all message is yet encoded\n",
        "            if(count < lenBinMsg):\n",
        "\n",
        "                # Storing the current frame of the file in binary\n",
        "                currentFrame = integerToBinary(audioBytes[j])\n",
        "                \n",
        "                # Changing the last bit of the current frame according to the message current bit\n",
        "                modifiedFrame = ((int)(currentFrame/10)*10) + (int)(binMsg[count])\n",
        "\n",
        "                # Storing the modified frame in the audio\n",
        "                encodedAudioBytes[j] = binaryToInt(modifiedFrame);\n",
        "\n",
        "                # Increasing the pointer to the message bit\n",
        "                count = count + 1;\n",
        "            # Else, all the message alongwith delimeter is encoded. Thus, breaking out of loop\n",
        "            else:\n",
        "                break;\n",
        "\n",
        "    # Coverting the encoded audio file to bytes\n",
        "    encodedAudioBytes = bytes(encodedAudioBytes)\n",
        "    # Writing the audio file to the base path\n",
        "    newaudio = wave.open(audioPath + \"encodedAudio.wav\", \"wb\")\n",
        "    # Setting the params of the original file to the encoded file\n",
        "    newaudio.setparams(audioFile.getparams())\n",
        "    # Writing frames of original audio to the encoded audio file\n",
        "    newaudio.writeframes(encodedAudioBytes)"
      ],
      "metadata": {
        "id": "Hjq1PbFCtAXJ"
      },
      "execution_count": 4,
      "outputs": []
    },
    {
      "cell_type": "markdown",
      "source": [
        "## **Extracting the data**"
      ],
      "metadata": {
        "id": "AlGrlOLY2Aek"
      }
    },
    {
      "cell_type": "code",
      "source": [
        "# Function to extract the message from an audio file\n",
        "def extractMessage(key):\n",
        "    # Base path of the code\n",
        "    audioPath =\"Audio-steganography/\"\n",
        "\n",
        "    # Reading the audio file as read-only\n",
        "    audioFile = wave.open(audioPath + 'encodedAudio.wav', 'rb')\n",
        "\n",
        "    # Extract audio frame as byte array\n",
        "    audioBytes = bytearray(list(audioFile.readframes(audioFile.getnframes())))\n",
        "    length = len(audioBytes)\n",
        "\n",
        "    # Declaring a delimeter\n",
        "    delimeter = \"#@#@#@\"\n",
        "\n",
        "    # Converting key to its binary representation\n",
        "    # Here, custom function is used for conversion.\n",
        "    binKey = stringToBinary(key)\n",
        "    lenBinKey = len(binKey)\n",
        "\n",
        "    # Pointer to keep track of current key bit\n",
        "    index = -1\n",
        "\n",
        "    # Each character is of 8 bytes.\n",
        "    # Counter to keep track of length of current frame value\n",
        "    extractedBitLength = 0\n",
        "\n",
        "    # Variable to hold the extracted bits\n",
        "    extractedBit = 0\n",
        "\n",
        "    # Extracted message\n",
        "    extractedMessage = \"\"\n",
        "\n",
        "    # Hiding the message in the audio file\n",
        "    for j in range(0, length):\n",
        "        index += 1\n",
        "\n",
        "        # Looping over key bits using modulus function to accomodate any length of message\n",
        "        if((int)(binKey[index%lenBinKey]) == 1):\n",
        "            \n",
        "            # Converting the current frame to binary\n",
        "            currentFrame = integerToBinary(audioBytes[j])\n",
        "\n",
        "            # Updating the extracted bit\n",
        "            extractedBit = extractedBit * 10 + currentFrame%10\n",
        "            extractedBitLength += 1\n",
        "\n",
        "            # When the length of the extracted bit is 8, convert the bits to string.\n",
        "            # This gives 1 extracted character.\n",
        "            if(extractedBitLength == 8):\n",
        "\n",
        "                # Converting the extracted bit to its character representation, and adding to the extracted message.\n",
        "                extractedMessage += binaryToString(extractedBit)\n",
        "\n",
        "                # Re-set the length of the extracted bit length to 0\n",
        "                extractedBitLength = 0\n",
        "\n",
        "                # Re-set the extracted bit to 0 for the next character\n",
        "                extractedBit = 0\n",
        "\n",
        "                # If the extracted message has the delimeter, it means the message has been extracted completely.\n",
        "                # Thus we return the message\n",
        "                if(\"#@#@#@\" in extractedMessage):\n",
        "                    # Return the message by leaving the last 6 characters of the delimeter\n",
        "                    return extractedMessage[:-6]\n",
        "              "
      ],
      "metadata": {
        "id": "dGG47dNfwb5_"
      },
      "execution_count": 5,
      "outputs": []
    },
    {
      "cell_type": "markdown",
      "source": [
        "# **Results**"
      ],
      "metadata": {
        "id": "cFJAJ419uani"
      }
    },
    {
      "cell_type": "markdown",
      "source": [
        "## **Encode the message**"
      ],
      "metadata": {
        "id": "EMk0a1MCNIe8"
      }
    },
    {
      "cell_type": "code",
      "source": [
        "# Input for the filename\n",
        "fileName = input(\"Enter the filename: (eg- cover_audio.wav)\")\n",
        "# Input for the key to be used\n",
        "key = input(\"Enter the key:\")\n",
        "# Input for the message to be encoded\n",
        "message = input(\"Enter the message to be hidden:\")\n",
        "\n",
        "# Function call to encode the message\n",
        "encodeMessage(fileName, key, message)"
      ],
      "metadata": {
        "colab": {
          "base_uri": "https://localhost:8080/"
        },
        "id": "B9PmGbEwLs6U",
        "outputId": "f0caa86d-8724-4403-c064-81a5131e55eb"
      },
      "execution_count": 7,
      "outputs": [
        {
          "output_type": "stream",
          "name": "stdout",
          "text": [
            "Enter the filename: (eg- cover_audio.wav)cover_audio.wav\n",
            "Enter the key:awdiawd\n",
            "Enter the message to be hidden:iuahjwdhiahwudhauiwhdiawu huiawhdiuah dwhiuaw diuhawiudhwaieda\n",
            "extractedMessage = iuahjwdhiahwudhauiwhdiawu huiawhdiuah dwhiuaw diuhawiudhwaieda\n"
          ]
        }
      ]
    },
    {
      "cell_type": "markdown",
      "source": [
        "## **Extract the message**"
      ],
      "metadata": {
        "id": "75CYkY1aNNBV"
      }
    },
    {
      "cell_type": "code",
      "source": [
        "# Function call to extract the message\n",
        "extractedMessage = extractMessage(key)\n",
        "\n",
        "print('extractedMessage = {}'.format(extractedMessage))"
      ],
      "metadata": {
        "id": "7CxXXiJ5NG4k"
      },
      "execution_count": null,
      "outputs": []
    }
  ]
}